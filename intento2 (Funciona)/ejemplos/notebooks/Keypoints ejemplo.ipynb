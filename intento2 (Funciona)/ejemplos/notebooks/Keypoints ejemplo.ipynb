{
 "cells": [
  {
   "cell_type": "code",
   "execution_count": 16,
   "metadata": {},
   "outputs": [],
   "source": [
    "import pandas as pd\n",
    "import numpy as np\n",
    "import os\n",
    "import matplotlib.pyplot as plt"
   ]
  },
  {
   "cell_type": "code",
   "execution_count": 2,
   "metadata": {},
   "outputs": [],
   "source": [
    "data_dir = \"/Users/torresmateo/Google Drive/WORK/Comunera/Diplomado/keypoints-kaggle/facial-keypoints-detection\""
   ]
  },
  {
   "cell_type": "code",
   "execution_count": 4,
   "metadata": {},
   "outputs": [
    {
     "data": {
      "text/plain": [
       "['training.csv',\n",
       " 'IdLookupTable.csv',\n",
       " '.DS_Store',\n",
       " 'Icon\\r',\n",
       " 'SampleSubmission.csv',\n",
       " 'training.zip',\n",
       " 'test.csv',\n",
       " 'test.zip',\n",
       " '.ipynb_checkpoints']"
      ]
     },
     "execution_count": 4,
     "metadata": {},
     "output_type": "execute_result"
    }
   ],
   "source": [
    "os.listdir(data_dir)"
   ]
  },
  {
   "cell_type": "code",
   "execution_count": 6,
   "metadata": {},
   "outputs": [],
   "source": [
    "train = pd.read_csv(os.path.join(data_dir, 'training.csv'))"
   ]
  },
  {
   "cell_type": "code",
   "execution_count": 68,
   "metadata": {},
   "outputs": [
    {
     "data": {
      "text/html": [
       "<div>\n",
       "<style scoped>\n",
       "    .dataframe tbody tr th:only-of-type {\n",
       "        vertical-align: middle;\n",
       "    }\n",
       "\n",
       "    .dataframe tbody tr th {\n",
       "        vertical-align: top;\n",
       "    }\n",
       "\n",
       "    .dataframe thead th {\n",
       "        text-align: right;\n",
       "    }\n",
       "</style>\n",
       "<table border=\"1\" class=\"dataframe\">\n",
       "  <thead>\n",
       "    <tr style=\"text-align: right;\">\n",
       "      <th></th>\n",
       "      <th>left_eye_center_x</th>\n",
       "      <th>left_eye_center_y</th>\n",
       "      <th>right_eye_center_x</th>\n",
       "      <th>right_eye_center_y</th>\n",
       "      <th>left_eye_inner_corner_x</th>\n",
       "      <th>left_eye_inner_corner_y</th>\n",
       "      <th>left_eye_outer_corner_x</th>\n",
       "      <th>left_eye_outer_corner_y</th>\n",
       "      <th>right_eye_inner_corner_x</th>\n",
       "      <th>right_eye_inner_corner_y</th>\n",
       "      <th>...</th>\n",
       "      <th>nose_tip_y</th>\n",
       "      <th>mouth_left_corner_x</th>\n",
       "      <th>mouth_left_corner_y</th>\n",
       "      <th>mouth_right_corner_x</th>\n",
       "      <th>mouth_right_corner_y</th>\n",
       "      <th>mouth_center_top_lip_x</th>\n",
       "      <th>mouth_center_top_lip_y</th>\n",
       "      <th>mouth_center_bottom_lip_x</th>\n",
       "      <th>mouth_center_bottom_lip_y</th>\n",
       "      <th>Image</th>\n",
       "    </tr>\n",
       "  </thead>\n",
       "  <tbody>\n",
       "    <tr>\n",
       "      <th>0</th>\n",
       "      <td>66.033564</td>\n",
       "      <td>39.002274</td>\n",
       "      <td>30.227008</td>\n",
       "      <td>36.421678</td>\n",
       "      <td>59.582075</td>\n",
       "      <td>39.647423</td>\n",
       "      <td>73.130346</td>\n",
       "      <td>39.969997</td>\n",
       "      <td>36.356571</td>\n",
       "      <td>37.389402</td>\n",
       "      <td>...</td>\n",
       "      <td>57.066803</td>\n",
       "      <td>61.195308</td>\n",
       "      <td>79.970165</td>\n",
       "      <td>28.614496</td>\n",
       "      <td>77.388992</td>\n",
       "      <td>43.312602</td>\n",
       "      <td>72.935459</td>\n",
       "      <td>43.130707</td>\n",
       "      <td>84.485774</td>\n",
       "      <td>238 236 237 238 240 240 239 241 241 243 240 23...</td>\n",
       "    </tr>\n",
       "    <tr>\n",
       "      <th>1</th>\n",
       "      <td>64.332936</td>\n",
       "      <td>34.970077</td>\n",
       "      <td>29.949277</td>\n",
       "      <td>33.448715</td>\n",
       "      <td>58.856170</td>\n",
       "      <td>35.274349</td>\n",
       "      <td>70.722723</td>\n",
       "      <td>36.187166</td>\n",
       "      <td>36.034723</td>\n",
       "      <td>34.361532</td>\n",
       "      <td>...</td>\n",
       "      <td>55.660936</td>\n",
       "      <td>56.421447</td>\n",
       "      <td>76.352000</td>\n",
       "      <td>35.122383</td>\n",
       "      <td>76.047660</td>\n",
       "      <td>46.684596</td>\n",
       "      <td>70.266553</td>\n",
       "      <td>45.467915</td>\n",
       "      <td>85.480170</td>\n",
       "      <td>219 215 204 196 204 211 212 200 180 168 178 19...</td>\n",
       "    </tr>\n",
       "    <tr>\n",
       "      <th>2</th>\n",
       "      <td>65.057053</td>\n",
       "      <td>34.909642</td>\n",
       "      <td>30.903789</td>\n",
       "      <td>34.909642</td>\n",
       "      <td>59.412000</td>\n",
       "      <td>36.320968</td>\n",
       "      <td>70.984421</td>\n",
       "      <td>36.320968</td>\n",
       "      <td>37.678105</td>\n",
       "      <td>36.320968</td>\n",
       "      <td>...</td>\n",
       "      <td>53.538947</td>\n",
       "      <td>60.822947</td>\n",
       "      <td>73.014316</td>\n",
       "      <td>33.726316</td>\n",
       "      <td>72.732000</td>\n",
       "      <td>47.274947</td>\n",
       "      <td>70.191789</td>\n",
       "      <td>47.274947</td>\n",
       "      <td>78.659368</td>\n",
       "      <td>144 142 159 180 188 188 184 180 167 132 84 59 ...</td>\n",
       "    </tr>\n",
       "    <tr>\n",
       "      <th>3</th>\n",
       "      <td>65.225739</td>\n",
       "      <td>37.261774</td>\n",
       "      <td>32.023096</td>\n",
       "      <td>37.261774</td>\n",
       "      <td>60.003339</td>\n",
       "      <td>39.127179</td>\n",
       "      <td>72.314713</td>\n",
       "      <td>38.380967</td>\n",
       "      <td>37.618643</td>\n",
       "      <td>38.754115</td>\n",
       "      <td>...</td>\n",
       "      <td>54.166539</td>\n",
       "      <td>65.598887</td>\n",
       "      <td>72.703722</td>\n",
       "      <td>37.245496</td>\n",
       "      <td>74.195478</td>\n",
       "      <td>50.303165</td>\n",
       "      <td>70.091687</td>\n",
       "      <td>51.561183</td>\n",
       "      <td>78.268383</td>\n",
       "      <td>193 192 193 194 194 194 193 192 168 111 50 12 ...</td>\n",
       "    </tr>\n",
       "    <tr>\n",
       "      <th>4</th>\n",
       "      <td>66.725301</td>\n",
       "      <td>39.621261</td>\n",
       "      <td>32.244810</td>\n",
       "      <td>38.042032</td>\n",
       "      <td>58.565890</td>\n",
       "      <td>39.621261</td>\n",
       "      <td>72.515926</td>\n",
       "      <td>39.884466</td>\n",
       "      <td>36.982380</td>\n",
       "      <td>39.094852</td>\n",
       "      <td>...</td>\n",
       "      <td>64.889521</td>\n",
       "      <td>60.671411</td>\n",
       "      <td>77.523239</td>\n",
       "      <td>31.191755</td>\n",
       "      <td>76.997301</td>\n",
       "      <td>44.962748</td>\n",
       "      <td>73.707387</td>\n",
       "      <td>44.227141</td>\n",
       "      <td>86.871166</td>\n",
       "      <td>147 148 160 196 215 214 216 217 219 220 206 18...</td>\n",
       "    </tr>\n",
       "    <tr>\n",
       "      <th>...</th>\n",
       "      <td>...</td>\n",
       "      <td>...</td>\n",
       "      <td>...</td>\n",
       "      <td>...</td>\n",
       "      <td>...</td>\n",
       "      <td>...</td>\n",
       "      <td>...</td>\n",
       "      <td>...</td>\n",
       "      <td>...</td>\n",
       "      <td>...</td>\n",
       "      <td>...</td>\n",
       "      <td>...</td>\n",
       "      <td>...</td>\n",
       "      <td>...</td>\n",
       "      <td>...</td>\n",
       "      <td>...</td>\n",
       "      <td>...</td>\n",
       "      <td>...</td>\n",
       "      <td>...</td>\n",
       "      <td>...</td>\n",
       "      <td>...</td>\n",
       "    </tr>\n",
       "    <tr>\n",
       "      <th>7044</th>\n",
       "      <td>67.402546</td>\n",
       "      <td>31.842551</td>\n",
       "      <td>29.746749</td>\n",
       "      <td>38.632942</td>\n",
       "      <td>NaN</td>\n",
       "      <td>NaN</td>\n",
       "      <td>NaN</td>\n",
       "      <td>NaN</td>\n",
       "      <td>NaN</td>\n",
       "      <td>NaN</td>\n",
       "      <td>...</td>\n",
       "      <td>67.029093</td>\n",
       "      <td>NaN</td>\n",
       "      <td>NaN</td>\n",
       "      <td>NaN</td>\n",
       "      <td>NaN</td>\n",
       "      <td>NaN</td>\n",
       "      <td>NaN</td>\n",
       "      <td>50.426637</td>\n",
       "      <td>79.683921</td>\n",
       "      <td>71 74 85 105 116 128 139 150 170 187 201 209 2...</td>\n",
       "    </tr>\n",
       "    <tr>\n",
       "      <th>7045</th>\n",
       "      <td>66.134400</td>\n",
       "      <td>38.365501</td>\n",
       "      <td>30.478626</td>\n",
       "      <td>39.950198</td>\n",
       "      <td>NaN</td>\n",
       "      <td>NaN</td>\n",
       "      <td>NaN</td>\n",
       "      <td>NaN</td>\n",
       "      <td>NaN</td>\n",
       "      <td>NaN</td>\n",
       "      <td>...</td>\n",
       "      <td>66.626011</td>\n",
       "      <td>NaN</td>\n",
       "      <td>NaN</td>\n",
       "      <td>NaN</td>\n",
       "      <td>NaN</td>\n",
       "      <td>NaN</td>\n",
       "      <td>NaN</td>\n",
       "      <td>50.287397</td>\n",
       "      <td>77.983023</td>\n",
       "      <td>60 60 62 57 55 51 49 48 50 53 56 56 106 89 77 ...</td>\n",
       "    </tr>\n",
       "    <tr>\n",
       "      <th>7046</th>\n",
       "      <td>66.690732</td>\n",
       "      <td>36.845221</td>\n",
       "      <td>31.666420</td>\n",
       "      <td>39.685042</td>\n",
       "      <td>NaN</td>\n",
       "      <td>NaN</td>\n",
       "      <td>NaN</td>\n",
       "      <td>NaN</td>\n",
       "      <td>NaN</td>\n",
       "      <td>NaN</td>\n",
       "      <td>...</td>\n",
       "      <td>67.515161</td>\n",
       "      <td>NaN</td>\n",
       "      <td>NaN</td>\n",
       "      <td>NaN</td>\n",
       "      <td>NaN</td>\n",
       "      <td>NaN</td>\n",
       "      <td>NaN</td>\n",
       "      <td>49.462572</td>\n",
       "      <td>78.117120</td>\n",
       "      <td>74 74 74 78 79 79 79 81 77 78 80 73 72 81 77 1...</td>\n",
       "    </tr>\n",
       "    <tr>\n",
       "      <th>7047</th>\n",
       "      <td>70.965082</td>\n",
       "      <td>39.853666</td>\n",
       "      <td>30.543285</td>\n",
       "      <td>40.772339</td>\n",
       "      <td>NaN</td>\n",
       "      <td>NaN</td>\n",
       "      <td>NaN</td>\n",
       "      <td>NaN</td>\n",
       "      <td>NaN</td>\n",
       "      <td>NaN</td>\n",
       "      <td>...</td>\n",
       "      <td>66.724988</td>\n",
       "      <td>NaN</td>\n",
       "      <td>NaN</td>\n",
       "      <td>NaN</td>\n",
       "      <td>NaN</td>\n",
       "      <td>NaN</td>\n",
       "      <td>NaN</td>\n",
       "      <td>50.065186</td>\n",
       "      <td>79.586447</td>\n",
       "      <td>254 254 254 254 254 238 193 145 121 118 119 10...</td>\n",
       "    </tr>\n",
       "    <tr>\n",
       "      <th>7048</th>\n",
       "      <td>66.938311</td>\n",
       "      <td>43.424510</td>\n",
       "      <td>31.096059</td>\n",
       "      <td>39.528604</td>\n",
       "      <td>NaN</td>\n",
       "      <td>NaN</td>\n",
       "      <td>NaN</td>\n",
       "      <td>NaN</td>\n",
       "      <td>NaN</td>\n",
       "      <td>NaN</td>\n",
       "      <td>...</td>\n",
       "      <td>73.033339</td>\n",
       "      <td>NaN</td>\n",
       "      <td>NaN</td>\n",
       "      <td>NaN</td>\n",
       "      <td>NaN</td>\n",
       "      <td>NaN</td>\n",
       "      <td>NaN</td>\n",
       "      <td>45.900480</td>\n",
       "      <td>82.773096</td>\n",
       "      <td>53 62 67 76 86 91 97 105 105 106 107 108 112 1...</td>\n",
       "    </tr>\n",
       "  </tbody>\n",
       "</table>\n",
       "<p>7049 rows × 31 columns</p>\n",
       "</div>"
      ],
      "text/plain": [
       "      left_eye_center_x  left_eye_center_y  right_eye_center_x  \\\n",
       "0             66.033564          39.002274           30.227008   \n",
       "1             64.332936          34.970077           29.949277   \n",
       "2             65.057053          34.909642           30.903789   \n",
       "3             65.225739          37.261774           32.023096   \n",
       "4             66.725301          39.621261           32.244810   \n",
       "...                 ...                ...                 ...   \n",
       "7044          67.402546          31.842551           29.746749   \n",
       "7045          66.134400          38.365501           30.478626   \n",
       "7046          66.690732          36.845221           31.666420   \n",
       "7047          70.965082          39.853666           30.543285   \n",
       "7048          66.938311          43.424510           31.096059   \n",
       "\n",
       "      right_eye_center_y  left_eye_inner_corner_x  left_eye_inner_corner_y  \\\n",
       "0              36.421678                59.582075                39.647423   \n",
       "1              33.448715                58.856170                35.274349   \n",
       "2              34.909642                59.412000                36.320968   \n",
       "3              37.261774                60.003339                39.127179   \n",
       "4              38.042032                58.565890                39.621261   \n",
       "...                  ...                      ...                      ...   \n",
       "7044           38.632942                      NaN                      NaN   \n",
       "7045           39.950198                      NaN                      NaN   \n",
       "7046           39.685042                      NaN                      NaN   \n",
       "7047           40.772339                      NaN                      NaN   \n",
       "7048           39.528604                      NaN                      NaN   \n",
       "\n",
       "      left_eye_outer_corner_x  left_eye_outer_corner_y  \\\n",
       "0                   73.130346                39.969997   \n",
       "1                   70.722723                36.187166   \n",
       "2                   70.984421                36.320968   \n",
       "3                   72.314713                38.380967   \n",
       "4                   72.515926                39.884466   \n",
       "...                       ...                      ...   \n",
       "7044                      NaN                      NaN   \n",
       "7045                      NaN                      NaN   \n",
       "7046                      NaN                      NaN   \n",
       "7047                      NaN                      NaN   \n",
       "7048                      NaN                      NaN   \n",
       "\n",
       "      right_eye_inner_corner_x  right_eye_inner_corner_y  ...  nose_tip_y  \\\n",
       "0                    36.356571                 37.389402  ...   57.066803   \n",
       "1                    36.034723                 34.361532  ...   55.660936   \n",
       "2                    37.678105                 36.320968  ...   53.538947   \n",
       "3                    37.618643                 38.754115  ...   54.166539   \n",
       "4                    36.982380                 39.094852  ...   64.889521   \n",
       "...                        ...                       ...  ...         ...   \n",
       "7044                       NaN                       NaN  ...   67.029093   \n",
       "7045                       NaN                       NaN  ...   66.626011   \n",
       "7046                       NaN                       NaN  ...   67.515161   \n",
       "7047                       NaN                       NaN  ...   66.724988   \n",
       "7048                       NaN                       NaN  ...   73.033339   \n",
       "\n",
       "      mouth_left_corner_x  mouth_left_corner_y  mouth_right_corner_x  \\\n",
       "0               61.195308            79.970165             28.614496   \n",
       "1               56.421447            76.352000             35.122383   \n",
       "2               60.822947            73.014316             33.726316   \n",
       "3               65.598887            72.703722             37.245496   \n",
       "4               60.671411            77.523239             31.191755   \n",
       "...                   ...                  ...                   ...   \n",
       "7044                  NaN                  NaN                   NaN   \n",
       "7045                  NaN                  NaN                   NaN   \n",
       "7046                  NaN                  NaN                   NaN   \n",
       "7047                  NaN                  NaN                   NaN   \n",
       "7048                  NaN                  NaN                   NaN   \n",
       "\n",
       "      mouth_right_corner_y  mouth_center_top_lip_x  mouth_center_top_lip_y  \\\n",
       "0                77.388992               43.312602               72.935459   \n",
       "1                76.047660               46.684596               70.266553   \n",
       "2                72.732000               47.274947               70.191789   \n",
       "3                74.195478               50.303165               70.091687   \n",
       "4                76.997301               44.962748               73.707387   \n",
       "...                    ...                     ...                     ...   \n",
       "7044                   NaN                     NaN                     NaN   \n",
       "7045                   NaN                     NaN                     NaN   \n",
       "7046                   NaN                     NaN                     NaN   \n",
       "7047                   NaN                     NaN                     NaN   \n",
       "7048                   NaN                     NaN                     NaN   \n",
       "\n",
       "      mouth_center_bottom_lip_x  mouth_center_bottom_lip_y  \\\n",
       "0                     43.130707                  84.485774   \n",
       "1                     45.467915                  85.480170   \n",
       "2                     47.274947                  78.659368   \n",
       "3                     51.561183                  78.268383   \n",
       "4                     44.227141                  86.871166   \n",
       "...                         ...                        ...   \n",
       "7044                  50.426637                  79.683921   \n",
       "7045                  50.287397                  77.983023   \n",
       "7046                  49.462572                  78.117120   \n",
       "7047                  50.065186                  79.586447   \n",
       "7048                  45.900480                  82.773096   \n",
       "\n",
       "                                                  Image  \n",
       "0     238 236 237 238 240 240 239 241 241 243 240 23...  \n",
       "1     219 215 204 196 204 211 212 200 180 168 178 19...  \n",
       "2     144 142 159 180 188 188 184 180 167 132 84 59 ...  \n",
       "3     193 192 193 194 194 194 193 192 168 111 50 12 ...  \n",
       "4     147 148 160 196 215 214 216 217 219 220 206 18...  \n",
       "...                                                 ...  \n",
       "7044  71 74 85 105 116 128 139 150 170 187 201 209 2...  \n",
       "7045  60 60 62 57 55 51 49 48 50 53 56 56 106 89 77 ...  \n",
       "7046  74 74 74 78 79 79 79 81 77 78 80 73 72 81 77 1...  \n",
       "7047  254 254 254 254 254 238 193 145 121 118 119 10...  \n",
       "7048  53 62 67 76 86 91 97 105 105 106 107 108 112 1...  \n",
       "\n",
       "[7049 rows x 31 columns]"
      ]
     },
     "execution_count": 68,
     "metadata": {},
     "output_type": "execute_result"
    }
   ],
   "source": [
    "train"
   ]
  },
  {
   "cell_type": "code",
   "execution_count": 14,
   "metadata": {},
   "outputs": [],
   "source": [
    "imagen0 = np.array(train.loc[0].Image.split()).astype(np.int32)"
   ]
  },
  {
   "cell_type": "code",
   "execution_count": 15,
   "metadata": {},
   "outputs": [
    {
     "data": {
      "text/plain": [
       "array([238, 236, 237, ...,  70,  75,  90], dtype=int32)"
      ]
     },
     "execution_count": 15,
     "metadata": {},
     "output_type": "execute_result"
    }
   ],
   "source": [
    "imagen0."
   ]
  },
  {
   "cell_type": "code",
   "execution_count": 20,
   "metadata": {},
   "outputs": [
    {
     "data": {
      "text/plain": [
       "<matplotlib.image.AxesImage at 0x11847f6a0>"
      ]
     },
     "execution_count": 20,
     "metadata": {},
     "output_type": "execute_result"
    },
    {
     "data": {
      "image/png": "[encoded data removed]",
      "text/plain": [
       "<Figure size 432x288 with 1 Axes>"
      ]
     },
     "metadata": {
      "needs_background": "light"
     },
     "output_type": "display_data"
    }
   ],
   "source": [
    "plt.imshow(imagen0.reshape(96,96), cmap='gray')"
   ]
  },
  {
   "cell_type": "code",
   "execution_count": 64,
   "metadata": {},
   "outputs": [],
   "source": [
    "x = train.loc[0][['left_eye_center_x', 'left_eye_center_y', 'right_eye_center_x',\n",
    "       'right_eye_center_y', 'left_eye_inner_corner_x',\n",
    "       'left_eye_inner_corner_y', 'left_eye_outer_corner_x',\n",
    "       'left_eye_outer_corner_y', 'right_eye_inner_corner_x',\n",
    "       'right_eye_inner_corner_y', 'right_eye_outer_corner_x',\n",
    "       'right_eye_outer_corner_y', 'left_eyebrow_inner_end_x',\n",
    "       'left_eyebrow_inner_end_y', 'left_eyebrow_outer_end_x',\n",
    "       'left_eyebrow_outer_end_y', 'right_eyebrow_inner_end_x',\n",
    "       'right_eyebrow_inner_end_y', 'right_eyebrow_outer_end_x',\n",
    "       'right_eyebrow_outer_end_y', 'nose_tip_x', 'nose_tip_y',\n",
    "       'mouth_left_corner_x', 'mouth_left_corner_y', 'mouth_right_corner_x',\n",
    "       'mouth_right_corner_y', 'mouth_center_top_lip_x',\n",
    "       'mouth_center_top_lip_y', 'mouth_center_bottom_lip_x',\n",
    "       'mouth_center_bottom_lip_y']].values.reshape(15, 2)"
   ]
  },
  {
   "cell_type": "code",
   "execution_count": 63,
   "metadata": {},
   "outputs": [
    {
     "data": {
      "text/plain": [
       "array([66.0335639098, 39.0022736842, 30.2270075188, 36.4216781955,\n",
       "       59.582075188000005, 39.647422556399995, 73.1303458647,\n",
       "       39.9699969925, 36.3565714286, 37.3894015038, 23.4528721805,\n",
       "       37.3894015038, 56.9532631579, 29.0336481203, 80.2271278195,\n",
       "       32.2281383459, 40.2276090226, 29.0023218045, 16.3563789474,\n",
       "       29.6474706767, 44.4205714286, 57.0668030075, 61.1953082707,\n",
       "       79.9701654135, 28.6144962406, 77.38899248119999, 43.3126015038,\n",
       "       72.9354586466, 43.1307067669, 84.4857744361], dtype=object)"
      ]
     },
     "execution_count": 63,
     "metadata": {},
     "output_type": "execute_result"
    }
   ],
   "source": [
    "x"
   ]
  },
  {
   "cell_type": "code",
   "execution_count": 57,
   "metadata": {},
   "outputs": [],
   "source": [
    "A = x.reshape(15, 2)"
   ]
  },
  {
   "cell_type": "code",
   "execution_count": 67,
   "metadata": {},
   "outputs": [
    {
     "data": {
      "text/plain": [
       "<matplotlib.collections.PathCollection at 0x11ac19f40>"
      ]
     },
     "execution_count": 67,
     "metadata": {},
     "output_type": "execute_result"
    },
    {
     "data": {
      "image/png": "[encoded data removed]",
      "text/plain": [
       "<Figure size 432x288 with 1 Axes>"
      ]
     },
     "metadata": {
      "needs_background": "light"
     },
     "output_type": "display_data"
    }
   ],
   "source": [
    "plt.imshow(imagen0.reshape(96,96), cmap='gray')\n",
    "plt.scatter(x[:,0], x[:,1], c='r')\n",
    "plt.scatter(x[0,0], x[0,1], c='cyan')\n",
    "plt.scatter(x[1,0], x[1,1], c='yellow')"
   ]
  },
  {
   "cell_type": "code",
   "execution_count": 35,
   "metadata": {},
   "outputs": [],
   "source": [
    "cara_chica = imagen0.reshape(96,96)"
   ]
  },
  {
   "cell_type": "code",
   "execution_count": 37,
   "metadata": {},
   "outputs": [
    {
     "data": {
      "text/plain": [
       "array([[[0.93333333],\n",
       "        [0.9254902 ],\n",
       "        [0.92941176],\n",
       "        ...,\n",
       "        [0.98039216],\n",
       "        [0.98039216],\n",
       "        [0.98039216]],\n",
       "\n",
       "       [[0.92156863],\n",
       "        [0.93333333],\n",
       "        [0.9254902 ],\n",
       "        ...,\n",
       "        [0.97647059],\n",
       "        [0.98039216],\n",
       "        [0.98431373]],\n",
       "\n",
       "       [[0.92941176],\n",
       "        [0.9254902 ],\n",
       "        [0.92941176],\n",
       "        ...,\n",
       "        [0.98431373],\n",
       "        [0.98431373],\n",
       "        [0.98039216]],\n",
       "\n",
       "       ...,\n",
       "\n",
       "       [[0.72941176],\n",
       "        [0.71764706],\n",
       "        [0.70980392],\n",
       "        ...,\n",
       "        [0.20392157],\n",
       "        [0.22352941],\n",
       "        [0.23529412]],\n",
       "\n",
       "       [[0.74117647],\n",
       "        [0.7372549 ],\n",
       "        [0.81176471],\n",
       "        ...,\n",
       "        [0.23921569],\n",
       "        [0.27058824],\n",
       "        [0.30588235]],\n",
       "\n",
       "       [[0.74901961],\n",
       "        [0.72156863],\n",
       "        [0.72156863],\n",
       "        ...,\n",
       "        [0.2745098 ],\n",
       "        [0.29411765],\n",
       "        [0.35294118]]])"
      ]
     },
     "execution_count": 37,
     "metadata": {},
     "output_type": "execute_result"
    }
   ],
   "source": [
    "cara_chica.reshape(96,96,1) / 255"
   ]
  },
  {
   "cell_type": "code",
   "execution_count": 38,
   "metadata": {},
   "outputs": [
    {
     "data": {
      "text/plain": [
       "Index(['left_eye_center_x', 'left_eye_center_y', 'right_eye_center_x',\n",
       "       'right_eye_center_y', 'left_eye_inner_corner_x',\n",
       "       'left_eye_inner_corner_y', 'left_eye_outer_corner_x',\n",
       "       'left_eye_outer_corner_y', 'right_eye_inner_corner_x',\n",
       "       'right_eye_inner_corner_y', 'right_eye_outer_corner_x',\n",
       "       'right_eye_outer_corner_y', 'left_eyebrow_inner_end_x',\n",
       "       'left_eyebrow_inner_end_y', 'left_eyebrow_outer_end_x',\n",
       "       'left_eyebrow_outer_end_y', 'right_eyebrow_inner_end_x',\n",
       "       'right_eyebrow_inner_end_y', 'right_eyebrow_outer_end_x',\n",
       "       'right_eyebrow_outer_end_y', 'nose_tip_x', 'nose_tip_y',\n",
       "       'mouth_left_corner_x', 'mouth_left_corner_y', 'mouth_right_corner_x',\n",
       "       'mouth_right_corner_y', 'mouth_center_top_lip_x',\n",
       "       'mouth_center_top_lip_y', 'mouth_center_bottom_lip_x',\n",
       "       'mouth_center_bottom_lip_y', 'Image'],\n",
       "      dtype='object')"
      ]
     },
     "execution_count": 38,
     "metadata": {},
     "output_type": "execute_result"
    }
   ],
   "source": [
    "train.columns"
   ]
  },
  {
   "cell_type": "code",
   "execution_count": 44,
   "metadata": {},
   "outputs": [
    {
     "data": {
      "text/plain": [
       "(96, 96)"
      ]
     },
     "execution_count": 44,
     "metadata": {},
     "output_type": "execute_result"
    }
   ],
   "source": [
    "cara_chica.shape[1::-1]"
   ]
  },
  {
   "cell_type": "code",
   "execution_count": 46,
   "metadata": {},
   "outputs": [],
   "source": [
    "a = np.random.rand(10,5)"
   ]
  },
  {
   "cell_type": "code",
   "execution_count": 48,
   "metadata": {},
   "outputs": [
    {
     "data": {
      "text/plain": [
       "(5, 10)"
      ]
     },
     "execution_count": 48,
     "metadata": {},
     "output_type": "execute_result"
    }
   ],
   "source": [
    "a.shape[1::-1]"
   ]
  },
  {
   "cell_type": "code",
   "execution_count": 52,
   "metadata": {},
   "outputs": [],
   "source": [
    "A[:, 0] += 1"
   ]
  },
  {
   "cell_type": "code",
   "execution_count": 58,
   "metadata": {},
   "outputs": [
    {
     "data": {
      "text/plain": [
       "array([[66.0335639098, 39.0022736842],\n",
       "       [30.2270075188, 36.4216781955],\n",
       "       [59.582075188000005, 39.647422556399995],\n",
       "       [73.1303458647, 39.9699969925],\n",
       "       [36.3565714286, 37.3894015038],\n",
       "       [23.4528721805, 37.3894015038],\n",
       "       [56.9532631579, 29.0336481203],\n",
       "       [80.2271278195, 32.2281383459],\n",
       "       [40.2276090226, 29.0023218045],\n",
       "       [16.3563789474, 29.6474706767],\n",
       "       [44.4205714286, 57.0668030075],\n",
       "       [61.1953082707, 79.9701654135],\n",
       "       [28.6144962406, 77.38899248119999],\n",
       "       [43.3126015038, 72.9354586466],\n",
       "       [43.1307067669, 84.4857744361]], dtype=object)"
      ]
     },
     "execution_count": 58,
     "metadata": {},
     "output_type": "execute_result"
    }
   ],
   "source": [
    "A"
   ]
  },
  {
   "cell_type": "code",
   "execution_count": 59,
   "metadata": {},
   "outputs": [],
   "source": [
    "B = A.copy()"
   ]
  },
  {
   "cell_type": "code",
   "execution_count": 60,
   "metadata": {},
   "outputs": [
    {
     "data": {
      "text/plain": [
       "array([[66.0335639098, 39.0022736842],\n",
       "       [30.2270075188, 36.4216781955],\n",
       "       [59.582075188000005, 39.647422556399995],\n",
       "       [73.1303458647, 39.9699969925],\n",
       "       [36.3565714286, 37.3894015038],\n",
       "       [23.4528721805, 37.3894015038],\n",
       "       [56.9532631579, 29.0336481203],\n",
       "       [80.2271278195, 32.2281383459],\n",
       "       [40.2276090226, 29.0023218045],\n",
       "       [16.3563789474, 29.6474706767],\n",
       "       [44.4205714286, 57.0668030075],\n",
       "       [61.1953082707, 79.9701654135],\n",
       "       [28.6144962406, 77.38899248119999],\n",
       "       [43.3126015038, 72.9354586466],\n",
       "       [43.1307067669, 84.4857744361]], dtype=object)"
      ]
     },
     "execution_count": 60,
     "metadata": {},
     "output_type": "execute_result"
    }
   ],
   "source": [
    "B"
   ]
  },
  {
   "cell_type": "code",
   "execution_count": null,
   "metadata": {},
   "outputs": [],
   "source": []
  }
 ],
 "metadata": {
  "kernelspec": {
   "display_name": "Python 3",
   "language": "python",
   "name": "python3"
  },
  "language_info": {
   "codemirror_mode": {
    "name": "ipython",
    "version": 3
   },
   "file_extension": ".py",
   "mimetype": "text/x-python",
   "name": "python",
   "nbconvert_exporter": "python",
   "pygments_lexer": "ipython3",
   "version": "3.8.5"
  }
 },
 "nbformat": 4,
 "nbformat_minor": 4
}
